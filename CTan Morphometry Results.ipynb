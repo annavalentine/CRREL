{
 "cells": [
  {
   "cell_type": "code",
   "execution_count": 1,
   "metadata": {
    "scrolled": false
   },
   "outputs": [],
   "source": [
    "import codecs\n",
    "import shutil\n",
    "import numpy as np\n",
    "import pandas as pd "
   ]
  },
  {
   "cell_type": "markdown",
   "metadata": {},
   "source": [
    "### CTan Morphometry Results\n",
    "##### Author: Anna Valentine (annavalentine@mines.edu)\n",
    "#### Date: 07/09/21\n",
    "\n",
    "#### Purpose: \n",
    "This takes in a folder of CTan .txt files, converts them to UTF-8 (because python doesn't like ANSCI?) and compiles the mophometry results. After getting all the morphometry results in one place, SSA is calculated. The morphometry results can be found in the .csv file called \"M_RESULTS_PIT1s17.csv\". "
   ]
  },
  {
   "cell_type": "code",
   "execution_count": 2,
   "metadata": {},
   "outputs": [],
   "source": [
    "# Write down my standard path here\n",
    "path = '/Users/annav/1_WORK_CRREL/CTan Project 1/' \n",
    "files = path+'Data/*.txt'  \n",
    "UTF8_folder = path + 'D_UTF8/'   # set up a folder for UTF8 conversion"
   ]
  },
  {
   "cell_type": "code",
   "execution_count": 3,
   "metadata": {},
   "outputs": [],
   "source": [
    "def list_files_local(path):\n",
    "    \"\"\" Get file list form local folder. \"\"\"\n",
    "    from glob import glob\n",
    "    return glob(path)\n",
    "\n",
    "list_files = list_files_local(files)  \n"
   ]
  },
  {
   "cell_type": "code",
   "execution_count": 4,
   "metadata": {},
   "outputs": [],
   "source": [
    "BLOCKSIZE = 300000 # desired size in bytes, this is 300 kB, which is larger than biggest file \n",
    "\n",
    "for file in list_files: \n",
    "    name_conv = UTF8_folder + file[46:62] +'_UTF8.txt'   #naming convention and moves to folder\n",
    "    with codecs.open(file, \"r\", \"mbcs\") as sourceFile:\n",
    "        with codecs.open(name_conv, \"w\", \"utf-8\") as targetFile:     # convert to UTF-8\n",
    "            while True:\n",
    "                contents = sourceFile.read(BLOCKSIZE)\n",
    "                if not contents:\n",
    "                    break\n",
    "                targetFile.write(contents)\n",
    "                \n",
    "#Let's grab the snowpit name while we are at it, but I dont know if all snowpits are 4 characters?\n",
    "snowpit = list_files[0][46:50]"
   ]
  },
  {
   "cell_type": "code",
   "execution_count": 5,
   "metadata": {},
   "outputs": [
    {
     "ename": "NameError",
     "evalue": "name 'TK21' is not defined",
     "output_type": "error",
     "traceback": [
      "\u001b[1;31m---------------------------------------------------------------------------\u001b[0m",
      "\u001b[1;31mNameError\u001b[0m                                 Traceback (most recent call last)",
      "\u001b[1;32m<ipython-input-5-a6cd1c557c89>\u001b[0m in \u001b[0;36m<module>\u001b[1;34m\u001b[0m\n\u001b[0;32m      1\u001b[0m \u001b[1;31m#Now let's look at our converted UTF8 files\u001b[0m\u001b[1;33m\u001b[0m\u001b[1;33m\u001b[0m\u001b[1;33m\u001b[0m\u001b[0m\n\u001b[1;32m----> 2\u001b[1;33m \u001b[0mUTF8_files\u001b[0m \u001b[1;33m=\u001b[0m \u001b[0mTK21\u001b[0m\u001b[1;33m.\u001b[0m\u001b[0mlist_files_local\u001b[0m\u001b[1;33m(\u001b[0m\u001b[0mUTF8_folder\u001b[0m\u001b[1;33m+\u001b[0m \u001b[1;34m'/*.txt'\u001b[0m\u001b[1;33m)\u001b[0m\u001b[1;33m\u001b[0m\u001b[1;33m\u001b[0m\u001b[0m\n\u001b[0m",
      "\u001b[1;31mNameError\u001b[0m: name 'TK21' is not defined"
     ]
    }
   ],
   "source": [
    "#Now let's look at our converted UTF8 files\n",
    "UTF8_files = TK21.list_files_local(UTF8_folder+ '/*.txt')  \n"
   ]
  },
  {
   "cell_type": "code",
   "execution_count": null,
   "metadata": {},
   "outputs": [],
   "source": [
    "#We need to figrure out where to start our skiprows!\n",
    "term = \"MORPHOMETRY\"\n",
    "\n",
    "def find_start(term, file):\n",
    "    row = 0\n",
    "    file_o = open(file)\n",
    "    for line in file_o:\n",
    "        row += 1\n",
    "        line.strip().split('/n')\n",
    "        if term in line:\n",
    "            return (row +1)\n",
    "    file.close()"
   ]
  },
  {
   "cell_type": "code",
   "execution_count": null,
   "metadata": {},
   "outputs": [],
   "source": [
    "#Make a preliminary dataframe to append to (with description, a column with Units)\n",
    "s_row1 = find_start(term, f1)\n",
    "df1 = pd.read_csv(f1, skiprows= s_row1, nrows= 52)  #Read in the part of the file we want, \"morphometry results\"\n",
    "### Description, Abbreviation, Value, Unit\n",
    "df1.loc[-3] = ['Sample Name', np.nan, np.nan, np.nan]  # Row for Sample Name\n",
    "df1.loc[-2] = ['Scan Depth', np.nan, np.nan, 'cm']  # Row for Scan Depth\n",
    "df1.loc[-1] = ['Average Depth', np.nan, np.nan, 'cm']  # Row for Avg. Depth\n",
    "df1.index = df1.index + 3  # shifting index\n",
    "df1.sort_index(inplace=True) \n",
    "\n",
    "#Okay, our main dataframe just has the description column woohoo\n",
    "df_main = pd.DataFrame(df1[\"Description\"])\n",
    "df_main[\"Unit\"] = pd.DataFrame(df1[\"Unit\"])\n"
   ]
  },
  {
   "cell_type": "code",
   "execution_count": null,
   "metadata": {},
   "outputs": [],
   "source": [
    "for file in UTF8_files:\n",
    "    \n",
    "    #Find start row, read in csv for Morpho Results\n",
    "    row = find_start(term, file)\n",
    "    df_int = pd.read_csv(file, skiprows= row, nrows= 52)\n",
    "    \n",
    "    #Find scan depth,\n",
    "    sc = file.split(\"_\") #This read from file name\n",
    "    scan_depth = sc[4]\n",
    "\n",
    "    #find average depth\n",
    "    cutoff = scan_depth[0:-2]\n",
    "    x = cutoff.split(\"-\")\n",
    "    hi = float(x[0])\n",
    "    lo = float(x[1])\n",
    "    avg_depth = (hi + lo)/2\n",
    "   \n",
    "    \n",
    "    ### Add in some rows for this prelim info\n",
    "    ### Description, Abbreviation, Value, Unit\n",
    "    df_int.loc[-3] = ['Sample Name', np.nan, np.nan, np.nan]  # Row for Sample Name (which I don't know?)\n",
    "    df_int.loc[-2] = ['Scan Depth', np.nan, scan_depth, 'cm']  # Row for Scan Depth\n",
    "    df_int.loc[-1] = ['Average Depth', np.nan, avg_depth, 'cm']  # Row for Avg. Depth\n",
    "    df_int.index = df_int.index + 3  # shifting index\n",
    "    df_int.sort_index(inplace=True) \n",
    "    \n",
    "    \n",
    "    #Add the column we want (\"Values\") to the datafram\n",
    "    df_main[avg_depth] = df_int[\"Value\"]\n",
    "    \n",
    "    \n",
    "    "
   ]
  },
  {
   "cell_type": "code",
   "execution_count": null,
   "metadata": {},
   "outputs": [],
   "source": [
    "# Take away the dang headers\n",
    "SSA = [\"SSA\", \"m^2/kg\"]\n",
    "SSA_int = df_main.loc[ 15, : ]  #Location of Object Surface/ Volume Ratio\n",
    "\n",
    "# mm^2/mm^3 --> m^2/m^3\n",
    "mm2m = 1000\n",
    "\n",
    "# m^2/m^3 --> m^2/kg\n",
    "m2kg = .001090513\n",
    "\n",
    "#Initialize\n",
    "SSA_i = 0\n",
    "\n",
    "#Loop through and calculate\n",
    "for i in range(len(SSA_int)-2):\n",
    "    SSA_i = float(SSA_int[i+2])*mm2m*m2kg\n",
    "    SSA.append(SSA_i) \n",
    "\n",
    "\n",
    "df_main.loc[55] = SSA    #Add to our main dataframe!\n",
    "   "
   ]
  },
  {
   "cell_type": "code",
   "execution_count": null,
   "metadata": {},
   "outputs": [],
   "source": [
    "# Export our dataframe to a .csv\n",
    "\n",
    "df_main.to_csv(\"M_RESULTS_PIT\"+snowpit+\".csv\", index =False)"
   ]
  },
  {
   "cell_type": "code",
   "execution_count": null,
   "metadata": {},
   "outputs": [],
   "source": [
    "#Plotting\n",
    "import matplotlib.pyplot as plt \n",
    "\n",
    "#Importing from our dataframe, I think the df's indexing is a little weird? \n",
    "depth = df_main.loc[2, :]\n",
    "SSA = df_main.loc[55]\n",
    "\n",
    "depth = depth[2:]\n",
    "SSA = SSA[2:]\n",
    "\n",
    "plt.scatter(SSA, depth)\n",
    "plt.ylabel(\"Depth (cm)\")\n",
    "plt.xlabel(\"SSA (m^2/kg)\")\n",
    "plt.xlim(0, 25)"
   ]
  }
 ],
 "metadata": {
  "kernelspec": {
   "display_name": "Python 3",
   "language": "python",
   "name": "python3"
  },
  "language_info": {
   "codemirror_mode": {
    "name": "ipython",
    "version": 3
   },
   "file_extension": ".py",
   "mimetype": "text/x-python",
   "name": "python",
   "nbconvert_exporter": "python",
   "pygments_lexer": "ipython3",
   "version": "3.8.5"
  }
 },
 "nbformat": 4,
 "nbformat_minor": 4
}
